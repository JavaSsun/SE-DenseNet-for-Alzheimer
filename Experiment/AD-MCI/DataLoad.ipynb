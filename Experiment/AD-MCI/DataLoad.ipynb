{
 "cells": [
  {
   "cell_type": "code",
   "execution_count": 1,
   "id": "4b7ef5fa-482b-49ab-adc2-bb2156c25652",
   "metadata": {},
   "outputs": [],
   "source": [
    "import os\n",
    "import cv2\n",
    "import io\n",
    "import glob\n",
    "import random\n",
    "import numpy as np\n",
    "import pandas as pd\n",
    "from tqdm import tqdm\n",
    "\n",
    "import tensorflow as tf\n",
    "from keras.utils.np_utils import to_categorical\n",
    "from sklearn.model_selection import train_test_split\n",
    "from sklearn.utils import shuffle\n",
    "random_seed = 6\n",
    "image_size = 224\n"
   ]
  },
  {
   "cell_type": "code",
   "execution_count": 2,
   "id": "dcc4d63a-579d-495f-b897-95b6a18fba70",
   "metadata": {},
   "outputs": [],
   "source": [
    "image_path = \"/home/pugongying/data/jupyterLab/shr/AD/New-Data/\"\n",
    "labels = [\"AD\", \"MCI\"]\n",
    "sub_folder_all = \"All-Correct\""
   ]
  },
  {
   "cell_type": "code",
   "execution_count": 3,
   "id": "c1cb3e8e-6f2b-4732-84bd-175391173157",
   "metadata": {},
   "outputs": [],
   "source": [
    "#生成数据集\n",
    "def generateds(image_path, labels, sub_folder):\n",
    "    X_train = []\n",
    "    Y_train = []\n",
    "    for i in labels:\n",
    "        folderDiretcory = os.path.join(image_path, i, sub_folder)\n",
    "        for j in tqdm(sorted(os.listdir(folderDiretcory))):\n",
    "            if j!=\".ipynb_checkpoints\":\n",
    "                image = cv2.imread(os.path.join(folderDiretcory, j))\n",
    "                image = image/255.\n",
    "                image = cv2.resize(image, (image_size, image_size))\n",
    "                X_train.append(image)\n",
    "                Y_train.append(i)\n",
    "\n",
    "    # 图片数据从list格式转换为numpy-array格式，方便后续工作\n",
    "    X_train=np.array(X_train)\n",
    "    Y_train = np.array(Y_train)\n",
    "    X_train, Y_train = shuffle(X_train, Y_train, random_state=random_seed)\n",
    "    X_train, X_test, Y_train, Y_test =train_test_split(X_train, Y_train, test_size=0.2, random_state=random_seed)\n",
    "    y_train_new=[]\n",
    "    y_test_new=[]\n",
    "\n",
    "    for i in Y_train:\n",
    "        y_train_new.append(labels.index(i))\n",
    "    Y_train = y_train_new\n",
    "    Y_train = to_categorical(Y_train)\n",
    "\n",
    "    for i in Y_test:\n",
    "        y_test_new.append(labels.index(i))\n",
    "    Y_test = y_test_new\n",
    "    Y_test = to_categorical(Y_test)\n",
    "    \n",
    "    return X_train, X_test, Y_train, Y_test\n"
   ]
  },
  {
   "cell_type": "code",
   "execution_count": 4,
   "id": "5533d325-079a-4beb-bf2a-03d7e999d494",
   "metadata": {},
   "outputs": [],
   "source": [
    "x_train_savepath = 'X_train.npy'\n",
    "y_train_savepath = 'Y_train.npy'\n",
    "x_test_savepath = 'X_test.npy'\n",
    "y_test_savepath = 'Y_test.npy'\n"
   ]
  },
  {
   "cell_type": "code",
   "execution_count": 5,
   "id": "8d16df51-73a6-423b-a462-69f02b35af49",
   "metadata": {},
   "outputs": [],
   "source": [
    "def save_data(image_path, labels, sub_folder):\n",
    "    X_train, X_test, Y_train, Y_test = generateds(image_path, labels, sub_folder)\n",
    "    np.save(x_train_savepath, X_train)\n",
    "    np.save(y_train_savepath, Y_train)\n",
    "    np.save(x_test_savepath, X_test)\n",
    "    np.save(y_test_savepath, Y_test)\n"
   ]
  },
  {
   "cell_type": "code",
   "execution_count": 6,
   "id": "99066ddb-9c62-4bb7-b10d-b5101c65d8b0",
   "metadata": {},
   "outputs": [
    {
     "name": "stderr",
     "output_type": "stream",
     "text": [
      "100%|██████████| 4800/4800 [00:04<00:00, 1005.73it/s]\n",
      "100%|██████████| 4800/4800 [00:04<00:00, 1006.61it/s]\n"
     ]
    }
   ],
   "source": [
    "save_data(image_path=image_path, labels=labels, sub_folder=sub_folder_all)"
   ]
  }
 ],
 "metadata": {
  "kernelspec": {
   "display_name": "bert",
   "language": "python",
   "name": "bert"
  },
  "language_info": {
   "codemirror_mode": {
    "name": "ipython",
    "version": 3
   },
   "file_extension": ".py",
   "mimetype": "text/x-python",
   "name": "python",
   "nbconvert_exporter": "python",
   "pygments_lexer": "ipython3",
   "version": "3.6.13"
  }
 },
 "nbformat": 4,
 "nbformat_minor": 5
}
